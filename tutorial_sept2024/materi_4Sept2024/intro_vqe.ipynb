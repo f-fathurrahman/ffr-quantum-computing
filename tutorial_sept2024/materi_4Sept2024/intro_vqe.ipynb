{
 "cells": [
  {
   "cell_type": "code",
   "execution_count": null,
   "id": "cfc66f71",
   "metadata": {},
   "outputs": [],
   "source": [
    "import numpy as np"
   ]
  },
  {
   "cell_type": "markdown",
   "id": "2bdff254",
   "metadata": {
    "jp-MarkdownHeadingCollapsed": true
   },
   "source": [
    "# Introduction to Variational Quantum Eigensolver"
   ]
  },
  {
   "cell_type": "markdown",
   "id": "09a09119",
   "metadata": {},
   "source": [
    "In this tutorial we will learn an introduction to variational quantum eigensolver for calculation of lowest eigenvalue of a Hamiltonan or Hermitian matrix."
   ]
  },
  {
   "cell_type": "markdown",
   "id": "6e54668d",
   "metadata": {},
   "source": [
    "In VQE, a quantum computer and a classical computer work together to calculate the ground state energy of a molecule."
   ]
  },
  {
   "cell_type": "markdown",
   "id": "a42089e0",
   "metadata": {
    "jp-MarkdownHeadingCollapsed": true
   },
   "source": [
    "# Let's review some stuffs first"
   ]
  },
  {
   "cell_type": "markdown",
   "id": "f4f5c84d",
   "metadata": {
    "jp-MarkdownHeadingCollapsed": true
   },
   "source": [
    "## What is Hermitian matrix ?"
   ]
  },
  {
   "cell_type": "markdown",
   "id": "70fa87d8",
   "metadata": {},
   "source": [
    "A Hermitian matrix is a square matrix $\\mathbf{A}$ that satisfies:\n",
    "$$\n",
    "\\mathbf{A} = \\mathbf{A}^{\\dagger}\n",
    "$$\n",
    "where $\\mathbf{A}^{\\dagger}$ is conjugate transpose of $\\mathbf{A}$.\n",
    "For a real matrix, a Hermitian matrix is simply a symmetric matrix, i.e. a matrix which is equal to its transpose."
   ]
  },
  {
   "cell_type": "markdown",
   "id": "3a2dc52a",
   "metadata": {},
   "source": [
    "Hamiltonian matrix which is found in electronic structure problem (chemistry, material science, etc.) is an example of Hermitian matrix. "
   ]
  },
  {
   "cell_type": "markdown",
   "id": "3466000d",
   "metadata": {},
   "source": [
    "Let's create a random matrix first."
   ]
  },
  {
   "cell_type": "code",
   "execution_count": null,
   "id": "cbab983f",
   "metadata": {},
   "outputs": [],
   "source": [
    "A = np.random.rand(4,4)\n",
    "A"
   ]
  },
  {
   "cell_type": "markdown",
   "id": "f09adb35",
   "metadata": {},
   "source": [
    "### Question\n",
    "\n",
    "Is matrix `A` Hermitian?"
   ]
  },
  {
   "cell_type": "code",
   "execution_count": null,
   "id": "c9af890c",
   "metadata": {},
   "outputs": [],
   "source": [
    "A.T - A"
   ]
  },
  {
   "cell_type": "markdown",
   "id": "50f3de59",
   "metadata": {},
   "source": [
    "We can \"make\" `A` Hermitian or symmetric by taking only its lower triangule part or upper triangle part.\n",
    "Alternatively we can do something like this:"
   ]
  },
  {
   "cell_type": "code",
   "execution_count": null,
   "id": "34f107a1",
   "metadata": {},
   "outputs": [],
   "source": [
    "A = 0.5*(A.T + A)\n",
    "A"
   ]
  },
  {
   "cell_type": "code",
   "execution_count": null,
   "id": "70ae85fa",
   "metadata": {},
   "outputs": [],
   "source": [
    "A.T - A"
   ]
  },
  {
   "cell_type": "markdown",
   "id": "f1ce7e6b",
   "metadata": {},
   "source": [
    "## Eigenvalue equation"
   ]
  },
  {
   "cell_type": "markdown",
   "id": "7ec33381",
   "metadata": {},
   "source": [
    "An **eigenvalue** $\\lambda$ of a matrix $\\mathbf{A}$ obeys the following equation:\n",
    "$$\n",
    "\\mathbf{A} \\mathbf{x} = \\lambda \\mathbf{x}\n",
    "$$\n",
    "for some vector $\\mathbf{x}$. The vector $\\mathbf{x}$ is also called an **eigenvector**."
   ]
  },
  {
   "cell_type": "markdown",
   "id": "410c7720",
   "metadata": {},
   "source": [
    "This eigenvalue equation appears in many applications. For quantum chemistry, eigenvalues are the energies of a system. We usually only concern ourselves with the lowest eigenvalue or the lowest energy."
   ]
  },
  {
   "cell_type": "code",
   "execution_count": null,
   "id": "d28e5017",
   "metadata": {},
   "outputs": [],
   "source": [
    "λ = np.linalg.eigvalsh(A)"
   ]
  },
  {
   "cell_type": "code",
   "execution_count": null,
   "id": "02ee740d",
   "metadata": {},
   "outputs": [],
   "source": [
    "λ"
   ]
  },
  {
   "cell_type": "code",
   "execution_count": null,
   "id": "2800a008",
   "metadata": {},
   "outputs": [],
   "source": [
    "λ, X = np.linalg.eigh(A)"
   ]
  },
  {
   "cell_type": "code",
   "execution_count": null,
   "id": "8df468d4",
   "metadata": {},
   "outputs": [],
   "source": [
    "λ[0]"
   ]
  },
  {
   "cell_type": "code",
   "execution_count": null,
   "id": "2b61606b",
   "metadata": {},
   "outputs": [],
   "source": [
    "x0 = X[:,0]"
   ]
  },
  {
   "cell_type": "code",
   "execution_count": null,
   "id": "6a078f74",
   "metadata": {},
   "outputs": [],
   "source": [
    "A @ x0"
   ]
  },
  {
   "cell_type": "code",
   "execution_count": null,
   "id": "3920333d",
   "metadata": {},
   "outputs": [],
   "source": [
    "λ[0] * x0"
   ]
  },
  {
   "cell_type": "code",
   "execution_count": null,
   "id": "53d9635e",
   "metadata": {},
   "outputs": [],
   "source": [
    "np.dot(x0, x0)"
   ]
  },
  {
   "cell_type": "markdown",
   "id": "8e3f1567",
   "metadata": {},
   "source": [
    "## Optimization"
   ]
  },
  {
   "cell_type": "markdown",
   "id": "ef47781f",
   "metadata": {},
   "source": [
    "Optimizing a scalar function"
   ]
  },
  {
   "cell_type": "code",
   "execution_count": null,
   "id": "ad422ea7",
   "metadata": {},
   "outputs": [],
   "source": []
  },
  {
   "cell_type": "markdown",
   "id": "55428ff3",
   "metadata": {},
   "source": [
    "# Qiskit"
   ]
  },
  {
   "cell_type": "markdown",
   "id": "c4ca4fb8",
   "metadata": {},
   "source": [
    "There are several things that we need to prepare before executing a VQE calculation.\n",
    "\n",
    "- The Hamiltonian matrix needs to be represented as tensor products of Pauli\n",
    "- Parameterized ansatz (recipe) for quantum circuit\n",
    "- minization algorithm"
   ]
  },
  {
   "cell_type": "markdown",
   "id": "6f87674a",
   "metadata": {},
   "source": [
    "To create Pauli representation of a matrix, we can use `SparsePauliOp` class from Qiskit."
   ]
  },
  {
   "cell_type": "code",
   "execution_count": null,
   "id": "be1ca8ab",
   "metadata": {},
   "outputs": [],
   "source": [
    "from qiskit.quantum_info.operators import SparsePauliOp"
   ]
  },
  {
   "cell_type": "code",
   "execution_count": null,
   "id": "531f7d06",
   "metadata": {},
   "outputs": [],
   "source": [
    "np.random.seed(1234)\n",
    "A = np.random.rand(4,4) + 10*np.eye(4) # create a digonally dominant matrix\n",
    "A = 0.5*(A + A.T)\n",
    "A"
   ]
  },
  {
   "cell_type": "code",
   "execution_count": null,
   "id": "181e20f1",
   "metadata": {},
   "outputs": [],
   "source": [
    "pauli_op = SparsePauliOp.from_operator(A)"
   ]
  },
  {
   "cell_type": "code",
   "execution_count": null,
   "id": "e107c867",
   "metadata": {},
   "outputs": [],
   "source": [
    "pauli_op"
   ]
  },
  {
   "cell_type": "markdown",
   "id": "c8654068",
   "metadata": {},
   "source": [
    "## Checking Pauli representation"
   ]
  },
  {
   "cell_type": "code",
   "execution_count": null,
   "id": "94228dce",
   "metadata": {},
   "outputs": [],
   "source": [
    "pauli_op_list = pauli_op.to_list()\n",
    "pauli_op_list"
   ]
  },
  {
   "cell_type": "code",
   "execution_count": null,
   "id": "e16ddfc3",
   "metadata": {},
   "outputs": [],
   "source": [
    "import gate_matrix"
   ]
  },
  {
   "cell_type": "code",
   "execution_count": null,
   "id": "2670b644",
   "metadata": {},
   "outputs": [],
   "source": [
    "def process_gate_str(g_str):\n",
    "    Nqubit = len(g_str)\n",
    "    matRes = np.eye(Nqubit, dtype=np.complex128)\n",
    "    mat_list = []\n",
    "    for s in g_str:\n",
    "        if s == 'X':\n",
    "            mat_list.append(gate_matrix.X)\n",
    "        elif s == 'Y':\n",
    "            mat_list.append(gate_matrix.Y)\n",
    "        elif s == 'Z':\n",
    "            mat_list.append(gate_matrix.Z)\n",
    "        elif s == 'I':\n",
    "            mat_list.append(gate_matrix.I)\n",
    "        else:\n",
    "            raise RuntimeError(f\"Unknown gate: {s}\")\n",
    "    Nmat = len(mat_list)\n",
    "    if Nmat >= 2:\n",
    "        A = np.kron(mat_list[0], mat_list[1])\n",
    "        for i in range(2,Nmat):\n",
    "            A = np.kron(A, mat_list[2])\n",
    "    else:\n",
    "        A = mat_list[0]\n",
    "    return A"
   ]
  },
  {
   "cell_type": "code",
   "execution_count": null,
   "id": "53975be4",
   "metadata": {},
   "outputs": [],
   "source": [
    "matA = np.zeros( (4,4), dtype=np.complex128)\n",
    "for p in pauli_op_list:\n",
    "    matA += p[1] * process_gate_str(p[0])"
   ]
  },
  {
   "cell_type": "code",
   "execution_count": null,
   "id": "24143e7e",
   "metadata": {},
   "outputs": [],
   "source": [
    "np.real(matA)"
   ]
  },
  {
   "cell_type": "markdown",
   "id": "d166b392",
   "metadata": {},
   "source": [
    "Original matrix:"
   ]
  },
  {
   "cell_type": "code",
   "execution_count": null,
   "id": "c48e6d87",
   "metadata": {},
   "outputs": [],
   "source": [
    "A"
   ]
  },
  {
   "cell_type": "markdown",
   "id": "dc26f668",
   "metadata": {},
   "source": [
    "## Qiskit: built in algorithm"
   ]
  },
  {
   "cell_type": "code",
   "execution_count": null,
   "id": "04001f5d",
   "metadata": {},
   "outputs": [],
   "source": [
    "ref_value = np.linalg.eigvalsh(pauli_op.to_matrix())[0]\n",
    "print(f\"Reference value: {ref_value:.5f}\")"
   ]
  },
  {
   "cell_type": "code",
   "execution_count": null,
   "id": "ee09fb26",
   "metadata": {},
   "outputs": [],
   "source": [
    "# define ansatz and optimizer\n",
    "from qiskit.circuit.library import EfficientSU2\n",
    "from qiskit_algorithms.optimizers import SPSA"
   ]
  },
  {
   "cell_type": "code",
   "execution_count": null,
   "id": "578fce2c",
   "metadata": {},
   "outputs": [],
   "source": [
    "import qiskit.circuit.library\n",
    "import qiskit_algorithms.optimizers"
   ]
  },
  {
   "cell_type": "code",
   "execution_count": null,
   "id": "deffe65c",
   "metadata": {},
   "outputs": [],
   "source": [
    "iterations = 125\n",
    "ansatz = EfficientSU2(pauli_op.num_qubits)\n",
    "spsa = SPSA(maxiter=iterations)"
   ]
  },
  {
   "cell_type": "code",
   "execution_count": null,
   "id": "5f01393a",
   "metadata": {},
   "outputs": [],
   "source": [
    "# define callback\n",
    "# note: Re-run this cell to restart lists before training\n",
    "counts = []\n",
    "values = []\n",
    "def store_intermediate_result(eval_count, parameters, mean, std):\n",
    "    counts.append(eval_count)\n",
    "    values.append(mean)"
   ]
  },
  {
   "cell_type": "code",
   "execution_count": null,
   "id": "573a5b1b",
   "metadata": {},
   "outputs": [],
   "source": [
    "from qiskit_algorithms.utils import algorithm_globals\n",
    "seed = 1234\n",
    "algorithm_globals.random_seed = seed"
   ]
  },
  {
   "cell_type": "code",
   "execution_count": null,
   "id": "83cc5f4d",
   "metadata": {},
   "outputs": [],
   "source": [
    "Nshots = 2**10\n",
    "# define Aer Estimator for noiseless statevector simulation\n",
    "from qiskit_aer.primitives import Estimator as AerEstimator\n",
    "noiseless_estimator = AerEstimator(\n",
    "    run_options={\"seed\": seed, \"shots\": Nshots},\n",
    "    transpile_options={\"seed_transpiler\": seed},\n",
    ")"
   ]
  },
  {
   "cell_type": "code",
   "execution_count": null,
   "id": "cd4bf601",
   "metadata": {},
   "outputs": [],
   "source": [
    "# instantiate and run VQE\n",
    "from qiskit_algorithms import VQE"
   ]
  },
  {
   "cell_type": "code",
   "execution_count": null,
   "id": "dda76a5d",
   "metadata": {},
   "outputs": [],
   "source": [
    "vqe = VQE(noiseless_estimator, ansatz, optimizer=spsa, callback=store_intermediate_result)"
   ]
  },
  {
   "cell_type": "code",
   "execution_count": null,
   "id": "f5b8ae13",
   "metadata": {},
   "outputs": [],
   "source": [
    "result = vqe.compute_minimum_eigenvalue(operator=pauli_op)\n",
    "\n",
    "print(f\"VQE on Aer qasm simulator (no noise): {result.eigenvalue.real:.5f}\")\n",
    "print(f\"Delta from reference energy value is {(result.eigenvalue.real - ref_value):.5f}\")"
   ]
  },
  {
   "cell_type": "code",
   "execution_count": null,
   "id": "cd28589a",
   "metadata": {},
   "outputs": [],
   "source": [
    "import matplotlib.pyplot as plt"
   ]
  },
  {
   "cell_type": "code",
   "execution_count": null,
   "id": "6695a78d",
   "metadata": {},
   "outputs": [],
   "source": [
    "plt.style.use(\"dark_background\")"
   ]
  },
  {
   "cell_type": "code",
   "execution_count": null,
   "id": "f50150f6",
   "metadata": {},
   "outputs": [],
   "source": [
    "plt.plot(counts, values);"
   ]
  },
  {
   "cell_type": "code",
   "execution_count": null,
   "id": "63c5c6a6",
   "metadata": {},
   "outputs": [],
   "source": []
  }
 ],
 "metadata": {
  "kernelspec": {
   "display_name": "Python 3 (ipykernel)",
   "language": "python",
   "name": "python3"
  }
 },
 "nbformat": 4,
 "nbformat_minor": 5
}
