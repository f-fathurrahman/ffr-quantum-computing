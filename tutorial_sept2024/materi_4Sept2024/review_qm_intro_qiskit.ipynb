{
 "cells": [
  {
   "cell_type": "code",
   "execution_count": null,
   "id": "1babab70",
   "metadata": {},
   "outputs": [],
   "source": [
    "import numpy as np"
   ]
  },
  {
   "cell_type": "code",
   "execution_count": null,
   "id": "7cb4d225",
   "metadata": {},
   "outputs": [],
   "source": [
    "import matplotlib.pyplot as plt\n",
    "import matplotlib\n",
    "#matplotlib.style.use(\"dark_background\") # disable this for default style"
   ]
  },
  {
   "cell_type": "code",
   "execution_count": null,
   "id": "8807cdf0",
   "metadata": {},
   "outputs": [],
   "source": [
    "import matplotlib_inline\n",
    "matplotlib_inline.backend_inline.set_matplotlib_formats(\"svg\")"
   ]
  },
  {
   "cell_type": "code",
   "execution_count": null,
   "id": "f72016ab",
   "metadata": {},
   "outputs": [],
   "source": [
    "from math import pi"
   ]
  },
  {
   "cell_type": "markdown",
   "id": "79e2f067",
   "metadata": {
    "jp-MarkdownHeadingCollapsed": true
   },
   "source": [
    "## Statevector"
   ]
  },
  {
   "cell_type": "markdown",
   "id": "b2c6ab37",
   "metadata": {},
   "source": [
    "One qubit state can be represented using statevector:\n",
    "$$\n",
    "\\left| \\psi \\right\\rangle = \\begin{bmatrix}\n",
    "a \\\\\n",
    "b\n",
    "\\end{bmatrix}\n",
    "$$\n",
    "where $a$ and $b$ are complex numbers."
   ]
  },
  {
   "cell_type": "markdown",
   "id": "112e5739",
   "metadata": {},
   "source": [
    "State vector is normalized according to:\n",
    "$$\n",
    "\\left \\langle \\psi | \\psi \\right \\rangle = 1\n",
    "$$\n",
    "with\n",
    "$$\n",
    "\\left \\langle \\psi \\right| = \\begin{bmatrix}\n",
    "a^{*} & b^{*}\n",
    "\\end{bmatrix}\n",
    "$$\n",
    "where $a^{*}$ and $b^{*}$ are complex conjugate of $a$ and $b$, respectively."
   ]
  },
  {
   "cell_type": "markdown",
   "id": "0b33c5f7",
   "metadata": {},
   "source": [
    "Let's create a random state vector, this is our $| \\psi \\rangle$"
   ]
  },
  {
   "cell_type": "code",
   "execution_count": null,
   "id": "a7ec64e8",
   "metadata": {},
   "outputs": [],
   "source": [
    "np.random.seed(1234)\n",
    "psi = np.random.rand(2,1) + np.random.rand(2,1)*1j\n",
    "psi"
   ]
  },
  {
   "cell_type": "markdown",
   "id": "6b97204a",
   "metadata": {},
   "source": [
    "And this is our $\\langle \\psi |$"
   ]
  },
  {
   "cell_type": "code",
   "execution_count": null,
   "id": "0db3f812",
   "metadata": {},
   "outputs": [],
   "source": [
    "psi.conj().T"
   ]
  },
  {
   "cell_type": "markdown",
   "id": "df04e145",
   "metadata": {},
   "source": [
    "The norm of $\\psi$ is:"
   ]
  },
  {
   "cell_type": "code",
   "execution_count": null,
   "id": "8f5e56f1",
   "metadata": {},
   "outputs": [],
   "source": [
    "np.sqrt( psi.conj().T @ psi )"
   ]
  },
  {
   "cell_type": "markdown",
   "id": "5a64eb48",
   "metadata": {},
   "source": [
    "Is this statevector normalized?"
   ]
  },
  {
   "cell_type": "markdown",
   "id": "7ee2cf18",
   "metadata": {},
   "source": [
    "If not, how to normalize this statevector?"
   ]
  },
  {
   "cell_type": "code",
   "execution_count": null,
   "id": "c49b3f63",
   "metadata": {},
   "outputs": [],
   "source": [
    "c = np.sqrt( psi.conj().T @ psi ) # c is actually a 1x1 matrix\n",
    "psi *= (1/c)"
   ]
  },
  {
   "cell_type": "code",
   "execution_count": null,
   "id": "09bff8da",
   "metadata": {},
   "outputs": [],
   "source": [
    "psi.conj().T @ psi"
   ]
  },
  {
   "cell_type": "markdown",
   "id": "2c819eaa",
   "metadata": {},
   "source": [
    "An alternative way to compute norm (this will return a scalar):"
   ]
  },
  {
   "cell_type": "code",
   "execution_count": null,
   "id": "20ef0932",
   "metadata": {},
   "outputs": [],
   "source": [
    "np.linalg.norm(psi)"
   ]
  },
  {
   "cell_type": "markdown",
   "id": "bee8fa81",
   "metadata": {},
   "source": [
    "### Plotting statevector (Optional)"
   ]
  },
  {
   "cell_type": "markdown",
   "id": "ff124910",
   "metadata": {},
   "source": [
    "One qubit statevector can be visualized as a point on sphere. To do this we must convert statevector elements $\\alpha$ and $\\beta$ to spherical coordinate with radial coordinate equal to 1 (in case statevector is normalized)."
   ]
  },
  {
   "cell_type": "code",
   "execution_count": null,
   "id": "6e08ad1a",
   "metadata": {},
   "outputs": [],
   "source": [
    "from qiskit.visualization import plot_bloch_vector"
   ]
  },
  {
   "cell_type": "code",
   "execution_count": null,
   "id": "7c662fdf",
   "metadata": {},
   "outputs": [],
   "source": [
    "# Modified from:\n",
    "# https://quantumcomputing.stackexchange.com/questions/10116/how-to-get-the-bloch-sphere-angles-given-an-arbitrary-qubit\n",
    "import cmath\n",
    "import math\n",
    "def qubit_to_spherical(psi):\n",
    "    Ndim = len(psi.shape)\n",
    "    if Ndim == 2:\n",
    "        α = psi[0,0]\n",
    "        β = psi[1,0]\n",
    "    elif Ndim == 1:\n",
    "        α = psi[0]\n",
    "        β = psi[1]\n",
    "    r = math.sqrt(abs(α)**2 + abs(β)**2)\n",
    "    α /= r # normalize\n",
    "    β /= r # normalize\n",
    "    θ = cmath.acos(abs(α))*2\n",
    "    if θ:\n",
    "        ϕ = cmath.log(β * cmath.exp(-1j*cmath.phase(α)) / cmath.sin(θ/2)) / 1j\n",
    "    else: # ?\n",
    "        ϕ = 0.0\n",
    "    return θ.real, ϕ.real"
   ]
  },
  {
   "cell_type": "code",
   "execution_count": null,
   "id": "c7621285",
   "metadata": {},
   "outputs": [],
   "source": [
    "qubit_to_spherical(np.array([0.0, 1.0]))"
   ]
  },
  {
   "cell_type": "code",
   "execution_count": null,
   "id": "1c15e5ee",
   "metadata": {},
   "outputs": [],
   "source": [
    "plot_bloch_vector([1,pi/3,0.1], coord_type=\"spherical\")"
   ]
  },
  {
   "cell_type": "markdown",
   "id": "2a33df37",
   "metadata": {},
   "source": [
    "### Using Statevector"
   ]
  },
  {
   "cell_type": "markdown",
   "id": "24a4c6a0",
   "metadata": {},
   "source": [
    "An easier way is to convert Numpy array to Qiskit `Statevector` object and then use `plot_bloch_multivector`."
   ]
  },
  {
   "cell_type": "code",
   "execution_count": null,
   "id": "97983fda",
   "metadata": {},
   "outputs": [],
   "source": [
    "from qiskit.quantum_info.states import Statevector"
   ]
  },
  {
   "cell_type": "code",
   "execution_count": null,
   "id": "17c61754",
   "metadata": {},
   "outputs": [],
   "source": [
    "psi_v = Statevector(psi)"
   ]
  },
  {
   "cell_type": "code",
   "execution_count": null,
   "id": "3332e7dc",
   "metadata": {},
   "outputs": [],
   "source": [
    "psi_v"
   ]
  },
  {
   "cell_type": "code",
   "execution_count": null,
   "id": "fb7f967a",
   "metadata": {},
   "outputs": [],
   "source": [
    "from qiskit.visualization import plot_bloch_multivector"
   ]
  },
  {
   "cell_type": "code",
   "execution_count": null,
   "id": "80359279",
   "metadata": {},
   "outputs": [],
   "source": [
    "plot_bloch_multivector(psi_v)"
   ]
  },
  {
   "cell_type": "markdown",
   "id": "182c92e7",
   "metadata": {},
   "source": [
    "## Computational basis vector"
   ]
  },
  {
   "cell_type": "markdown",
   "id": "8d75240c",
   "metadata": {},
   "source": [
    "Statevector can be written in terms of basis vectors. This is similar to how we can decompose a point coordinate into $x$ and $y$ (in plane). Because Hilbert space size of a qubit is two, we need two basis vectors.\n",
    "\n",
    "There are several many basis vectors that can be used. One important basis vector is \"computational\" basis."
   ]
  },
  {
   "cell_type": "markdown",
   "id": "4b0ed3be",
   "metadata": {},
   "source": [
    "Computational basis is defined as:\n",
    "$$\n",
    "\\left| 0 \\right\\rangle = \\begin{bmatrix}\n",
    "1 \\\\ 0\n",
    "\\end{bmatrix}\n",
    "$$\n",
    "\n",
    "$$\n",
    "\\left| 1 \\right\\rangle = \\begin{bmatrix}\n",
    "0 \\\\ 1\n",
    "\\end{bmatrix}\n",
    "$$\n",
    "\n",
    "Note that 0 and 1 within $\\ket{0}$ and $\\ket{1}$ represent symbols, not a number."
   ]
  },
  {
   "cell_type": "code",
   "execution_count": null,
   "id": "03961c81",
   "metadata": {},
   "outputs": [],
   "source": [
    "ket0 = np.array([ [1], [0] ])\n",
    "ket1 = np.array([ [0], [1] ])"
   ]
  },
  {
   "cell_type": "markdown",
   "id": "f35c95ad",
   "metadata": {},
   "source": [
    "`ket0` and `ket1` should be orthonormal: "
   ]
  },
  {
   "cell_type": "code",
   "execution_count": null,
   "id": "09ad7495",
   "metadata": {},
   "outputs": [],
   "source": [
    "ket0.conj().T @ ket0"
   ]
  },
  {
   "cell_type": "code",
   "execution_count": null,
   "id": "523e7479",
   "metadata": {},
   "outputs": [],
   "source": [
    "ket0.conj().T @ ket1"
   ]
  },
  {
   "cell_type": "markdown",
   "id": "12edea44",
   "metadata": {},
   "source": [
    "Using computational basis, we can write $\\left| \\psi \\right\\rangle$ linear combination of this basis set:\n",
    "$$\n",
    "\\psi = c_0 \\left| 0 \\right\\rangle + c_1 \\left| 1 \\right\\rangle\n",
    "$$\n",
    "\n",
    "How do we find the coefficients $c_0$ and $c_1$ ?"
   ]
  },
  {
   "cell_type": "code",
   "execution_count": null,
   "id": "901613b4",
   "metadata": {},
   "outputs": [],
   "source": [
    "c0 = ket0.conj().T @ psi\n",
    "c1 = ket1.conj().T @ psi"
   ]
  },
  {
   "cell_type": "markdown",
   "id": "87a31af4",
   "metadata": {},
   "source": [
    "Let's evaluate the expansion using c0 and c1 along with basis set:"
   ]
  },
  {
   "cell_type": "code",
   "execution_count": null,
   "id": "4e38ad12",
   "metadata": {},
   "outputs": [],
   "source": [
    "c0*ket0 + c1*ket1"
   ]
  },
  {
   "cell_type": "markdown",
   "id": "9ded793b",
   "metadata": {},
   "source": [
    "They should be the same with the original statevector:"
   ]
  },
  {
   "cell_type": "code",
   "execution_count": null,
   "id": "7c637cab",
   "metadata": {},
   "outputs": [],
   "source": [
    "psi"
   ]
  },
  {
   "cell_type": "markdown",
   "id": "00b33bf7",
   "metadata": {},
   "source": [
    "## Other bases"
   ]
  },
  {
   "cell_type": "markdown",
   "id": "5e75e3d6",
   "metadata": {},
   "source": [
    "$$\n",
    "\\left| + \\right\\rangle = \\begin{bmatrix}\n",
    "\\frac{1}{\\sqrt{2}} \\\\ \\frac{1}{\\sqrt{2}}\n",
    "\\end{bmatrix}\n",
    "$$\n",
    "\n",
    "$$\n",
    "\\left| - \\right\\rangle = \\begin{bmatrix}\n",
    "\\frac{1}{\\sqrt{2}} \\\\ -\\frac{1}{\\sqrt{2}}\n",
    "\\end{bmatrix}\n",
    "$$"
   ]
  },
  {
   "cell_type": "code",
   "execution_count": null,
   "id": "7d8a4c9e",
   "metadata": {},
   "outputs": [],
   "source": [
    "ketPlus = np.array( [ [1/np.sqrt(2)], [1/np.sqrt(2)] ])\n",
    "ketMinus = np.array( [ [1/np.sqrt(2)], [-1/np.sqrt(2)] ])"
   ]
  },
  {
   "cell_type": "code",
   "execution_count": null,
   "id": "72056ea3",
   "metadata": {},
   "outputs": [],
   "source": [
    "ketPlus.conj().T @ ketPlus"
   ]
  },
  {
   "cell_type": "code",
   "execution_count": null,
   "id": "85400887",
   "metadata": {},
   "outputs": [],
   "source": [
    "ketPlus.conj().T @ ketMinus"
   ]
  },
  {
   "cell_type": "markdown",
   "id": "34c6763d",
   "metadata": {},
   "source": [
    "$$\n",
    "\\left| +\\imath \\right\\rangle = \\begin{bmatrix}\n",
    "\\frac{1}{\\sqrt{2}} \\\\ \\frac{\\imath}{\\sqrt{2}}\n",
    "\\end{bmatrix}\n",
    "$$\n",
    "\n",
    "$$\n",
    "\\left| -\\imath \\right\\rangle = \\begin{bmatrix}\n",
    "\\frac{1}{\\sqrt{2}} \\\\ -\\frac{\\imath}{\\sqrt{2}}\n",
    "\\end{bmatrix}\n",
    "$$"
   ]
  },
  {
   "cell_type": "code",
   "execution_count": null,
   "id": "4df6a966",
   "metadata": {},
   "outputs": [],
   "source": [
    "ketPlusI = np.array([ [1/np.sqrt(2)], [1j/np.sqrt(2)] ])\n",
    "ketMinusI = np.array([ [1/np.sqrt(2)], [-1j/np.sqrt(2)] ])"
   ]
  },
  {
   "cell_type": "code",
   "execution_count": null,
   "id": "7dceece4",
   "metadata": {},
   "outputs": [],
   "source": [
    "ketPlusI.conj().T @ ketPlusI "
   ]
  },
  {
   "cell_type": "code",
   "execution_count": null,
   "id": "118d8f4b",
   "metadata": {},
   "outputs": [],
   "source": [
    "ketPlusI.conj().T @ ketMinusI"
   ]
  },
  {
   "cell_type": "markdown",
   "id": "76a7fa29",
   "metadata": {
    "jp-MarkdownHeadingCollapsed": true
   },
   "source": [
    "## Two qubits"
   ]
  },
  {
   "cell_type": "markdown",
   "id": "c0cd5f7d",
   "metadata": {},
   "source": [
    "Statevector of two qubit can be written as:\n",
    "$$\n",
    "\\left| \\psi \\right\\rangle = \\begin{bmatrix}\n",
    "a \\\\ b \\\\ c \\\\ d\n",
    "\\end{bmatrix}\n",
    "$$\n",
    "where $a$, $b$, $c$, and $d$ are complex numbers."
   ]
  },
  {
   "cell_type": "markdown",
   "id": "5e4c906c",
   "metadata": {},
   "source": [
    "They also can be written as basis set expansion:\n",
    "$$\n",
    "\\ket{\\psi} = c_{00} \\ket{00} + c_{01} \\ket{01} + c_{10} \\ket{10} + c_{11} \\ket{11}\n",
    "$$"
   ]
  },
  {
   "cell_type": "markdown",
   "id": "5e7e0039",
   "metadata": {},
   "source": [
    "The basis vectors are tensor products of one qubit basis vectors."
   ]
  },
  {
   "cell_type": "markdown",
   "id": "9841ab86",
   "metadata": {},
   "source": [
    "We will be using the following convention about tensor products.\n",
    "\n",
    "Given one qubit in with statevector $\\ket{q_0}$ and another qubit in state $\\ket{q_1}$, the tensor product $\\ket{q_0}$ and $\\ket{q_1}$ is\n",
    "$$\n",
    "\\ket{q_1 q_0} = \\ket{q_1} \\otimes \\ket{q_0}\n",
    "$$\n",
    "where $\\otimes$ is tensor product or Kronecker product operator."
   ]
  },
  {
   "cell_type": "markdown",
   "id": "f6214ad6",
   "metadata": {},
   "source": [
    "$$\n",
    "\\begin{eqnarray}\n",
    "\\ket{00} &= \\ket{0} \\otimes \\ket{0} \\\\\n",
    "\\ket{01} &= \\ket{0} \\otimes \\ket{1} \\\\\n",
    "\\ket{10} &= \\ket{1} \\otimes \\ket{0} \\\\\n",
    "\\ket{11} &= \\ket{1} \\otimes \\ket{1}\n",
    "\\end{eqnarray}\n",
    "$$"
   ]
  },
  {
   "cell_type": "markdown",
   "id": "63be1794",
   "metadata": {},
   "source": [
    "In Numpy, we can use `np.kron` to compute tensor product."
   ]
  },
  {
   "cell_type": "code",
   "execution_count": null,
   "id": "ac321d2b",
   "metadata": {},
   "outputs": [],
   "source": [
    "ket00 = np.kron(ket0, ket0)\n",
    "ket00"
   ]
  },
  {
   "cell_type": "code",
   "execution_count": null,
   "id": "9210a7e8",
   "metadata": {},
   "outputs": [],
   "source": [
    "ket01 = np.kron(ket0, ket1)\n",
    "ket01"
   ]
  },
  {
   "cell_type": "code",
   "execution_count": null,
   "id": "09d4ab5e",
   "metadata": {},
   "outputs": [],
   "source": [
    "ket10 = np.kron(ket1, ket0)\n",
    "ket10"
   ]
  },
  {
   "cell_type": "code",
   "execution_count": null,
   "id": "28b25a99",
   "metadata": {},
   "outputs": [],
   "source": [
    "ket11 = np.kron(ket1, ket1)\n",
    "ket11"
   ]
  },
  {
   "cell_type": "markdown",
   "id": "66a28a5f",
   "metadata": {},
   "source": [
    "### Your task\n",
    "\n",
    "Check orthonormality of `ket00`, `ket01`, `ket10`, and `ket11`"
   ]
  },
  {
   "cell_type": "markdown",
   "id": "c2e79cae",
   "metadata": {},
   "source": [
    "### Your task\n",
    "\n",
    "Create a random complex (state)vector with 4 elements and normalize it.\n",
    "Then compute the expansion coefficients $c_{00}$, $c_{01}$, etc. Verify that the expansion is the same as original vector."
   ]
  },
  {
   "cell_type": "markdown",
   "id": "df8f8573",
   "metadata": {
    "jp-MarkdownHeadingCollapsed": true
   },
   "source": [
    "## Three, four, ... qubits"
   ]
  },
  {
   "cell_type": "markdown",
   "id": "2b771a4e",
   "metadata": {},
   "source": [
    "For three qubits we can represent statevector with column vector with $2^3$ elements.\n",
    "In general for $N$ qubits we have statevector with $2^{N}$ elements."
   ]
  },
  {
   "cell_type": "markdown",
   "id": "d6c7f48e",
   "metadata": {},
   "source": [
    "Following the convention we mentioned before, for three qubits, we have tensor products:\n",
    "$$\n",
    "\\ket{q_2 q_1 q_0} = \\ket{q_2} \\otimes \\ket{q_1} \\otimes \\ket{q_0}\n",
    "$$"
   ]
  },
  {
   "cell_type": "markdown",
   "id": "8f2bcfb3",
   "metadata": {},
   "source": [
    "The basis vectors also can be computed using tensor products.\n",
    "For example:\n",
    "$$\n",
    "\\ket{001} = \\ket{0} \\otimes \\ket{0} \\otimes \\ket{1}\n",
    "$$"
   ]
  },
  {
   "cell_type": "code",
   "execution_count": null,
   "id": "57325444",
   "metadata": {},
   "outputs": [],
   "source": [
    "ket001 = np.kron( np.kron(ket0, ket0), ket1)\n",
    "ket001"
   ]
  },
  {
   "cell_type": "code",
   "execution_count": null,
   "id": "487e5972",
   "metadata": {},
   "outputs": [],
   "source": [
    "ket100 = np.kron( np.kron(ket1, ket0), ket0)\n",
    "ket100"
   ]
  },
  {
   "cell_type": "markdown",
   "id": "0ed92232",
   "metadata": {},
   "source": [
    "## Operator, quantum gate"
   ]
  },
  {
   "cell_type": "markdown",
   "id": "c5fd4bb9",
   "metadata": {},
   "source": [
    "An operator $\\hat{O}$ map a statevector to another statevector. We can write:\n",
    "$$\n",
    "\\ket{\\psi'} = \\hat{O} \\ket{\\psi}\n",
    "$$"
   ]
  },
  {
   "cell_type": "markdown",
   "id": "0dafa841",
   "metadata": {},
   "source": [
    "In quantum computing, we process or evolve the statevector by using various operators. These operators will be called as quantum gates."
   ]
  },
  {
   "cell_type": "markdown",
   "id": "8dcbf368",
   "metadata": {},
   "source": [
    "We usually represent an operator as a matrix. Dimension of the matrix depends on the dimension of the statevector it operates on. For example, if an operator or quantum gate operate only on one qubit, then the dimension of the matrix is $2 \\times 2$.\n",
    "For two qubits then the matrix dimension is $4 \\times 4$, etc."
   ]
  },
  {
   "cell_type": "markdown",
   "id": "ac35ecbc",
   "metadata": {},
   "source": [
    "Suppose that we have two qubits with statevector\n",
    "$$\n",
    "\\ket{\\psi} = \\ket{q_1 q_0} = \\ket{q_1} \\otimes \\ket{q_0}\n",
    "$$"
   ]
  },
  {
   "cell_type": "markdown",
   "id": "e74a2063",
   "metadata": {},
   "source": [
    "$\\hat{A}$ is an operator that operates on qubit $q_1$ and $\\hat{B}$ is an operator that operates on $q_0$.\n",
    "The actions of these operators can be written as:\n",
    "$$\n",
    "\\left( \\hat{A} \\ket{q_1} \\right) \\otimes \\left( \\hat{B} \\ket{q_0} \\right) \n",
    "$$"
   ]
  },
  {
   "cell_type": "markdown",
   "id": "968fd210",
   "metadata": {},
   "source": [
    "Note that, both matrix representations of $\\hat{A}$ and $\\hat{B}$ has size of $2\\times2$ because each of them operates on one qubit."
   ]
  },
  {
   "cell_type": "markdown",
   "id": "b8a22f85",
   "metadata": {},
   "source": [
    "These operations also can be written as:\n",
    "$$\n",
    "\\hat{C} \\ket{q_1 q_0}\n",
    "$$\n",
    "where matrix representation of $\\hat{C}$ must have size of $4 \\times 4$. This matrix can be written as:\n",
    "$$\n",
    "\\hat{C} = \\hat{A} \\otimes \\hat{B}\n",
    "$$"
   ]
  },
  {
   "cell_type": "markdown",
   "id": "49155332",
   "metadata": {},
   "source": [
    "### Unitary operator"
   ]
  },
  {
   "cell_type": "markdown",
   "id": "ff7a9e96",
   "metadata": {},
   "source": [
    "If both $\\ket{\\psi}$ and $\\ket{\\psi'}$ are normalized, the operator $\\hat{O}$ is said to be unitary. A unitary matrix $U$ satisfies the following relation:\n",
    "$$\n",
    "U U^{\\dagger} = U^{\\dagger} U = I\n",
    "$$\n",
    "where $I$ is an identity matrix and ${U}^{\\dagger}$ is conjugate transpose of $U$."
   ]
  },
  {
   "cell_type": "markdown",
   "id": "c603ba4e",
   "metadata": {},
   "source": [
    "Most of quantum gates that we will use are unitary. They will not change the norm of the statevector."
   ]
  },
  {
   "cell_type": "markdown",
   "id": "8d63c7d2",
   "metadata": {},
   "source": [
    "### Expectation value"
   ]
  },
  {
   "cell_type": "markdown",
   "id": "b72915b8",
   "metadata": {},
   "source": [
    "For a given operator $\\hat{O}$ we can define expectation value of that operator with respect to statevector $\\ket{\\psi}$:\n",
    "$$\n",
    "\\braket{O} = \\braket{\\psi | \\hat{O} | \\psi}\n",
    "$$"
   ]
  },
  {
   "cell_type": "markdown",
   "id": "d478ba05",
   "metadata": {},
   "source": [
    "### Hermitian operator"
   ]
  },
  {
   "cell_type": "markdown",
   "id": "84b0fd49",
   "metadata": {},
   "source": [
    "In quantum mechanics, any observable or measurable quantities must be represented by Hermitian operators or matrices. A Hermitian matrix $\\mathcal{H}$ satisfies:\n",
    "$$\n",
    "\\mathcal{H} = \\mathcal{H}^{\\dagger}\n",
    "$$\n",
    "Expectation value of Hermitian matrix is a real number."
   ]
  },
  {
   "cell_type": "markdown",
   "id": "8a1843b8",
   "metadata": {},
   "source": [
    "## One qubit quantum gates"
   ]
  },
  {
   "cell_type": "markdown",
   "id": "c2b4fa52",
   "metadata": {
    "jp-MarkdownHeadingCollapsed": true
   },
   "source": [
    "### Identity"
   ]
  },
  {
   "cell_type": "markdown",
   "id": "a8ce1f1a",
   "metadata": {},
   "source": [
    "$$\n",
    "I = \\begin{bmatrix} \n",
    "1 & 0 \\\\\n",
    "0 & 1 \n",
    "\\end{bmatrix}\n",
    "$$"
   ]
  },
  {
   "cell_type": "markdown",
   "id": "18f990a4",
   "metadata": {
    "jp-MarkdownHeadingCollapsed": true
   },
   "source": [
    "### Pauli matrices"
   ]
  },
  {
   "cell_type": "markdown",
   "id": "ea923ad6",
   "metadata": {
    "jp-MarkdownHeadingCollapsed": true
   },
   "source": [
    "$$\n",
    "{X} = \\begin{bmatrix} \n",
    "0 & 1 \\\\\n",
    "1 & 0 \n",
    "\\end{bmatrix}\\qquad\n",
    "{Y} = \\begin{bmatrix} \n",
    "0 & -i \\\\\n",
    "i & 0 \n",
    "\\end{bmatrix}\\qquad\n",
    "{Z} = \\begin{bmatrix} \n",
    "1 & 0 \\\\\n",
    "0 & -1 \n",
    "\\end{bmatrix}\n",
    "$$"
   ]
  },
  {
   "cell_type": "markdown",
   "id": "0ced30c4",
   "metadata": {
    "jp-MarkdownHeadingCollapsed": true
   },
   "source": [
    "### Hadamard matrix"
   ]
  },
  {
   "cell_type": "markdown",
   "id": "dfad13c2",
   "metadata": {},
   "source": [
    "$$\n",
    "{H} = \\frac{1}{\\sqrt{2}}\\begin{bmatrix} \n",
    "1 & 1 \\\\\n",
    "1 & -1 \n",
    "\\end{bmatrix}\n",
    "$$"
   ]
  },
  {
   "cell_type": "markdown",
   "id": "88198eca",
   "metadata": {},
   "source": [
    "### Rotation matrices"
   ]
  },
  {
   "cell_type": "markdown",
   "id": "2ab4132e",
   "metadata": {},
   "source": [
    "These matrices have by one parameter $\\theta$."
   ]
  },
  {
   "cell_type": "markdown",
   "id": "297e80ad",
   "metadata": {},
   "source": [
    "$$\n",
    "R_x(\\theta) = \\begin{bmatrix} \n",
    "\\cos(\\theta/2)     & -\\imath \\sin(\\theta/2) \\\\\n",
    "-\\imath \\sin (\\theta/2) & \\cos(\\theta/2) \n",
    "\\end{bmatrix}\n",
    "$$\n",
    "$$\n",
    "R_y(\\theta) = \\begin{bmatrix} \n",
    "\\mathrm{cos}(\\theta/2) & -\\mathrm{sin}(\\theta/2) \\\\\n",
    "\\mathrm{sin}(\\theta/2) & \\mathrm{cos}(\\theta/2) \n",
    "\\end{bmatrix}\n",
    "$$\n",
    "$$\n",
    "R_z(\\theta) = \\begin{bmatrix} \n",
    "\\mathrm{exp}(-i\\theta/2) & 0 \\\\\n",
    "0                        & \\mathrm{exp}(i\\theta/2) \n",
    "\\end{bmatrix}\n",
    "$$"
   ]
  },
  {
   "cell_type": "markdown",
   "id": "d96744e2",
   "metadata": {},
   "source": [
    "### Qiskit quantum gates"
   ]
  },
  {
   "cell_type": "markdown",
   "id": "1a2ab5d7",
   "metadata": {},
   "source": [
    "We can code these matrices manually using Numpy. Alternatively, we can use Qiskit circuit library to obtain matrix representations of of quantum gates."
   ]
  },
  {
   "cell_type": "code",
   "execution_count": null,
   "id": "361ac337",
   "metadata": {},
   "outputs": [],
   "source": [
    "import qiskit.circuit.library as qclib"
   ]
  },
  {
   "cell_type": "code",
   "execution_count": null,
   "id": "45784601",
   "metadata": {},
   "outputs": [],
   "source": [
    "I = qclib.IGate().to_matrix()"
   ]
  },
  {
   "cell_type": "code",
   "execution_count": null,
   "id": "8a4ca685",
   "metadata": {},
   "outputs": [],
   "source": [
    "X = qclib.XGate().to_matrix()\n",
    "Y = qclib.YGate().to_matrix()\n",
    "Z = qclib.ZGate().to_matrix()"
   ]
  },
  {
   "cell_type": "code",
   "execution_count": null,
   "id": "5ae0a414",
   "metadata": {},
   "outputs": [],
   "source": [
    "H = qclib.HGate().to_matrix()"
   ]
  },
  {
   "cell_type": "code",
   "execution_count": null,
   "id": "ee4eefc4",
   "metadata": {},
   "outputs": [],
   "source": [
    "RX = qclib.RXGate(0.1).to_matrix() # chose theta=0.1"
   ]
  },
  {
   "cell_type": "markdown",
   "id": "80ba8720",
   "metadata": {},
   "source": [
    "### Your tasks"
   ]
  },
  {
   "cell_type": "markdown",
   "id": "d9d09a88",
   "metadata": {},
   "source": [
    "#### Verify that these matrices are unitary."
   ]
  },
  {
   "cell_type": "markdown",
   "id": "ecbf6fb1",
   "metadata": {},
   "source": [
    "#### Try to apply these matrices basis set, for example try to apply $X$ to $\\ket{0}$ and $\\ket{1}$ and visualize the results."
   ]
  },
  {
   "cell_type": "markdown",
   "id": "d4d93854",
   "metadata": {},
   "source": [
    "#### Compute expectation values of various basis set vector for Pauli matrices."
   ]
  },
  {
   "cell_type": "code",
   "execution_count": null,
   "id": "499cecfe",
   "metadata": {},
   "outputs": [],
   "source": [
    "psi = ket0;\n",
    "res = psi.conj().T @ (Z @ psi)\n",
    "res"
   ]
  },
  {
   "cell_type": "code",
   "execution_count": null,
   "id": "64ce81cd",
   "metadata": {},
   "outputs": [],
   "source": [
    "psi = ketMinus;\n",
    "res = psi.conj().T @ (X @ psi)\n",
    "res"
   ]
  },
  {
   "cell_type": "code",
   "execution_count": null,
   "id": "01639dab",
   "metadata": {},
   "outputs": [],
   "source": [
    "psi = ketPlusI\n",
    "res = psi.conj().T @ (Z @ psi)\n",
    "res"
   ]
  },
  {
   "cell_type": "markdown",
   "id": "5782d597",
   "metadata": {},
   "source": [
    "## Quantum circuit"
   ]
  },
  {
   "cell_type": "markdown",
   "id": "5dd75366",
   "metadata": {},
   "source": [
    "In Qiskit, we don't usually work with matrix representation of quantum gates. Instead we build a quantum circuit and add the required gates or operations."
   ]
  },
  {
   "cell_type": "code",
   "execution_count": null,
   "id": "3a50becc",
   "metadata": {},
   "outputs": [],
   "source": [
    "from qiskit import QuantumCircuit"
   ]
  },
  {
   "cell_type": "markdown",
   "id": "1d071b64",
   "metadata": {},
   "source": [
    "In the following example, we build a QuantumCircuit with 2 qubits $\\ket{q_1 q_0}$, apply Hadamard gate to $q_1$ and Pauli $X$ gate the $q_0$, the we measure the results. We also draw the corresponding circuit."
   ]
  },
  {
   "cell_type": "code",
   "execution_count": null,
   "id": "b63d1df0",
   "metadata": {},
   "outputs": [],
   "source": [
    "qc = QuantumCircuit(2)\n",
    "qc.h(1) # Hadamard gate to q1\n",
    "qc.x(0) # Hdamard gate to q0\n",
    "qc.measure_all()\n",
    "qc.draw()"
   ]
  },
  {
   "cell_type": "markdown",
   "id": "08cc8ad1",
   "metadata": {},
   "source": [
    "Using Matplotlib"
   ]
  },
  {
   "cell_type": "code",
   "execution_count": null,
   "id": "bad5056c",
   "metadata": {},
   "outputs": [],
   "source": [
    "qc.draw(\"mpl\")"
   ]
  },
  {
   "cell_type": "markdown",
   "id": "6888afae",
   "metadata": {},
   "source": [
    "### Quantum circuit simulation"
   ]
  },
  {
   "cell_type": "markdown",
   "id": "a5d618aa",
   "metadata": {},
   "source": [
    "In Qiskit, we can simulate the operations of the quantum circuit on classical computers. We usually use two kind of simulators:\n",
    "- Statevector simulator: this is similar to using raw matrix multiplications\n",
    "- QASM simulator: this is a probabilistic simulator, to simulate real measurement. We usually use this for quantum circuits which have measurement gates."
   ]
  },
  {
   "cell_type": "code",
   "execution_count": null,
   "id": "663555a9",
   "metadata": {},
   "outputs": [],
   "source": [
    "from qiskit import transpile\n",
    "from qiskit_aer import Aer\n",
    "\n",
    "def run_on_qasm_simulator(my_qc, shots=1000):\n",
    "    backend = Aer.get_backend(\"qasm_simulator\")\n",
    "    tqc = transpile(my_qc, backend)\n",
    "    job = backend.run(tqc, shots=shots)\n",
    "    return job.result()\n",
    "\n",
    "def run_on_statevector_simulator(my_qc):\n",
    "    backend = Aer.get_backend(\"statevector_simulator\")\n",
    "    tqc = transpile(my_qc, backend)\n",
    "    job = backend.run(tqc)\n",
    "    return job.result()"
   ]
  },
  {
   "cell_type": "markdown",
   "id": "aa0b38be",
   "metadata": {},
   "source": [
    "### Example simulations"
   ]
  },
  {
   "cell_type": "code",
   "execution_count": null,
   "id": "84e81a64",
   "metadata": {},
   "outputs": [],
   "source": [
    "qc = QuantumCircuit(1)\n",
    "qc.h(0)\n",
    "qc.draw()"
   ]
  },
  {
   "cell_type": "code",
   "execution_count": null,
   "id": "02c0873e",
   "metadata": {},
   "outputs": [],
   "source": [
    "res = run_on_statevector_simulator(qc)\n",
    "res.get_statevector()"
   ]
  },
  {
   "cell_type": "code",
   "execution_count": null,
   "id": "a5deba91",
   "metadata": {},
   "outputs": [],
   "source": [
    "res.get_statevector().data.real"
   ]
  },
  {
   "cell_type": "code",
   "execution_count": null,
   "id": "c4771748",
   "metadata": {},
   "outputs": [],
   "source": [
    "1/np.sqrt(2) * (ket0 + ket1)"
   ]
  },
  {
   "cell_type": "code",
   "execution_count": null,
   "id": "efd78db7",
   "metadata": {},
   "outputs": [],
   "source": [
    "qc = QuantumCircuit(1)\n",
    "qc.h(0)\n",
    "qc.measure_all()\n",
    "qc.draw()"
   ]
  },
  {
   "cell_type": "code",
   "execution_count": null,
   "id": "f2af810b",
   "metadata": {},
   "outputs": [],
   "source": [
    "res = run_on_qasm_simulator(qc)\n",
    "res.get_counts()"
   ]
  },
  {
   "cell_type": "markdown",
   "id": "954aa09c",
   "metadata": {},
   "source": [
    "What happen if we run statevector simulator on this quantum circuit?"
   ]
  },
  {
   "cell_type": "code",
   "execution_count": null,
   "id": "193efab7",
   "metadata": {},
   "outputs": [],
   "source": [
    "res = run_on_statevector_simulator(qc)\n",
    "res.get_statevector()"
   ]
  },
  {
   "cell_type": "markdown",
   "id": "721916dc",
   "metadata": {},
   "source": [
    "### Multiple qubits quantum gates"
   ]
  },
  {
   "cell_type": "markdown",
   "id": "fc0a4531",
   "metadata": {},
   "source": [
    "We can build quantum gates that operates on multiple qubits by using tensor products of single qubit quantum gates."
   ]
  },
  {
   "cell_type": "markdown",
   "id": "89bfb6df",
   "metadata": {},
   "source": [
    "Usually multiple qubit quantum gates are controlled gates.\n",
    "Controlled gates need more than one qubits to operate.\n",
    "They are somewhat equivalent to conditional statements in the classical programming languages. The examples are controlled X gate (CX), controlled-Y gate (CY), etc.\n",
    "CX gate need two qubits: first qubit is the control qubit, second qubit is the target qubit."
   ]
  },
  {
   "cell_type": "code",
   "execution_count": null,
   "id": "3cd00658",
   "metadata": {},
   "outputs": [],
   "source": [
    "qc = QuantumCircuit(2)\n",
    "qc.x(0)\n",
    "qc.cx(0,1) # q0 is the control, q1 is target\n",
    "qc.measure_all()\n",
    "qc.draw()"
   ]
  },
  {
   "cell_type": "code",
   "execution_count": null,
   "id": "acc2e3f5",
   "metadata": {},
   "outputs": [],
   "source": [
    "res = run_on_qasm_simulator(qc)\n",
    "res.get_counts()"
   ]
  },
  {
   "cell_type": "markdown",
   "id": "8fdc1f30",
   "metadata": {},
   "source": [
    "### Parametrized quantum circuit"
   ]
  },
  {
   "cell_type": "markdown",
   "id": "b78e53ec",
   "metadata": {},
   "source": [
    "Some gates need parameter(s), such as RX gate."
   ]
  },
  {
   "cell_type": "code",
   "execution_count": null,
   "id": "dffc4aef",
   "metadata": {},
   "outputs": [],
   "source": [
    "qc = QuantumCircuit(1)\n",
    "qc.rx(0.1, 0) # 0.1 is theta\n",
    "qc.draw()"
   ]
  },
  {
   "cell_type": "code",
   "execution_count": null,
   "id": "c64dcad6",
   "metadata": {},
   "outputs": [],
   "source": [
    "from qiskit.circuit import ParameterVector"
   ]
  },
  {
   "cell_type": "code",
   "execution_count": null,
   "id": "64d97e40",
   "metadata": {},
   "outputs": [],
   "source": [
    "theta = ParameterVector(\"theta\", 1)"
   ]
  },
  {
   "cell_type": "code",
   "execution_count": null,
   "id": "ca86b5d7",
   "metadata": {},
   "outputs": [],
   "source": [
    "qc = QuantumCircuit(1)\n",
    "qc.rx(theta[0], 0)\n",
    "qc.draw()"
   ]
  },
  {
   "cell_type": "code",
   "execution_count": null,
   "id": "f1763cb2",
   "metadata": {},
   "outputs": [],
   "source": [
    "# res = run_on_statevector_simulator(qc) # this will error"
   ]
  },
  {
   "cell_type": "code",
   "execution_count": null,
   "id": "5eae233a",
   "metadata": {},
   "outputs": [],
   "source": [
    "tqc = qc.assign_parameters([pi])\n",
    "res = run_on_statevector_simulator(tqc)\n",
    "res.get_statevector()"
   ]
  },
  {
   "cell_type": "code",
   "execution_count": null,
   "id": "db3beae0",
   "metadata": {},
   "outputs": [],
   "source": [
    "from qiskit.visualization import plot_bloch_multivector\n",
    "plot_bloch_multivector(res.get_statevector())"
   ]
  },
  {
   "cell_type": "markdown",
   "id": "2f2ce902",
   "metadata": {},
   "source": [
    "## Last cell"
   ]
  },
  {
   "cell_type": "code",
   "execution_count": null,
   "id": "08086d14",
   "metadata": {},
   "outputs": [],
   "source": []
  },
  {
   "cell_type": "markdown",
   "id": "43db65be",
   "metadata": {},
   "source": [
    "## "
   ]
  }
 ],
 "metadata": {
  "kernelspec": {
   "display_name": "Python 3 (ipykernel)",
   "language": "python",
   "name": "python3"
  }
 },
 "nbformat": 4,
 "nbformat_minor": 5
}
